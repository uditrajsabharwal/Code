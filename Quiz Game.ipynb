{
 "cells": [
  {
   "cell_type": "code",
   "execution_count": null,
   "id": "8f44600e-c84b-4385-a1ca-72f01561e3ff",
   "metadata": {},
   "outputs": [],
   "source": [
    "print (\"Welcome to the quiz\") \n",
    "playing = input(\"Do you want to play \")\n",
    "if playing != \"yes\":\n",
    "    quit()\n",
    "    \n",
    "print(\"Okay! Let's play:\")\n",
    "score = 0\n",
    "\n",
    "answer = input(\"What is 2+2? \")\n",
    "if answer.lower() == \"4\": \n",
    "    print (\"Correct\")\n",
    "    score += 1\n",
    "    \n",
    "    \n",
    "else:\n",
    "    print (\"Not Correct\")\n",
    "    \n",
    "answer = input(\"What is Quentin Tarantino's most popular movie? \")\n",
    "if answer.lower() == \"pulp fiction\": \n",
    "    print (\"Correct\")\n",
    "    score += 1\n",
    "    \n",
    "else:\n",
    "    print (\"Not Correct\")\n",
    "    \n",
    "\n",
    "answer = input(\"Who is the founder of Apple? \")\n",
    "if answer.lower() == (\"steve jobs\"): \n",
    "    print (\"Correct\")\n",
    "    score +=1\n",
    "    \n",
    "else:\n",
    "    print (\"Not Correct\")\n",
    "\n",
    "print (\"You got \" + str(score) + \" questions correct\")\n",
    "print (\"You got \" + str(score/3*100) + \" questions correct\")\n",
    "\n"
   ]
  }
 ],
 "metadata": {
  "kernelspec": {
   "display_name": "Python 3 (ipykernel)",
   "language": "python",
   "name": "python3"
  },
  "language_info": {
   "codemirror_mode": {
    "name": "ipython",
    "version": 3
   },
   "file_extension": ".py",
   "mimetype": "text/x-python",
   "name": "python",
   "nbconvert_exporter": "python",
   "pygments_lexer": "ipython3",
   "version": "3.9.13"
  }
 },
 "nbformat": 4,
 "nbformat_minor": 5
}
